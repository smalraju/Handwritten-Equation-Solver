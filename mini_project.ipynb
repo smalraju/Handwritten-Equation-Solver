{
  "cells": [
    {
      "cell_type": "code",
      "execution_count": null,
      "metadata": {
        "id": "JcqVQNrdoODC"
      },
      "outputs": [],
      "source": [
        "!pip install -U -q PyDrive\n",
        "  \n",
        "from pydrive.auth import GoogleAuth\n",
        "from pydrive.drive import GoogleDrive\n",
        "from google.colab import auth\n",
        "from oauth2client.client import GoogleCredentials\n",
        "  \n",
        "  \n",
        "# Authenticate and create the PyDrive client.\n",
        "auth.authenticate_user()\n",
        "gauth = GoogleAuth()\n",
        "gauth.credentials = GoogleCredentials.get_application_default()\n",
        "drive = GoogleDrive(gauth)"
      ]
    },
    {
      "cell_type": "code",
      "execution_count": null,
      "metadata": {
        "colab": {
          "base_uri": "https://localhost:8080/"
        },
        "id": "JgTUxku5pPXS",
        "outputId": "fd5600b3-35ed-4d4c-dd09-9c6fc348fd6b"
      },
      "outputs": [
        {
          "output_type": "stream",
          "name": "stdout",
          "text": [
            "       label  pixel0  pixel1  pixel2  ...  pixel780  pixel781  pixel782  pixel783\n",
            "0         11       0       0       0  ...         0         0         0         0\n",
            "1         11       2       1       1  ...         0         0         0         0\n",
            "2         11       1       0       0  ...         0         0         0         0\n",
            "3         11       0       0       0  ...         0         0         0         0\n",
            "4         11       0       0       0  ...         0         0         0         0\n",
            "...      ...     ...     ...     ...  ...       ...       ...       ...       ...\n",
            "85704     12       0       0       0  ...         0         0         0         0\n",
            "85705     12       0       0       0  ...         0         0         0         0\n",
            "85706     12       0       0       0  ...         0         0         0         0\n",
            "85707     12       0       0       0  ...         0         0         0         0\n",
            "85708     12       0       0       0  ...         0         0         0         0\n",
            "\n",
            "[85709 rows x 785 columns]\n"
          ]
        }
      ],
      "source": [
        "link = 'https://drive.google.com/file/d/1xNrkZciaQGS38x7dacG9mX05_zfNuWmV/view?usp=sharing'\n",
        "  \n",
        "import pandas as pd\n",
        "  \n",
        "# to get the id part of the file\n",
        "id = link.split(\"/\")[-2]\n",
        "  \n",
        "downloaded = drive.CreateFile({'id':id}) \n",
        "downloaded.GetContentFile('xclara.csv')  \n",
        "  \n",
        "df = pd.read_csv('xclara.csv')\n",
        "print(df)"
      ]
    },
    {
      "cell_type": "code",
      "execution_count": null,
      "metadata": {
        "colab": {
          "base_uri": "https://localhost:8080/",
          "height": 334
        },
        "id": "GZaOg2ltpX8-",
        "outputId": "772f792a-62dc-4e38-ee12-d3eed3e96e97"
      },
      "outputs": [
        {
          "output_type": "stream",
          "name": "stderr",
          "text": [
            "/usr/local/lib/python3.7/dist-packages/seaborn/_decorators.py:43: FutureWarning: Pass the following variable as a keyword arg: x. From version 0.12, the only valid positional argument will be `data`, and passing other arguments without an explicit keyword will result in an error or misinterpretation.\n",
            "  FutureWarning\n"
          ]
        },
        {
          "output_type": "display_data",
          "data": {
            "image/png": "[encoded data removed]",
            "text/plain": [
              "<Figure size 432x288 with 1 Axes>"
            ]
          },
          "metadata": {
            "needs_background": "light"
          }
        }
      ],
      "source": [
        "#~~~1. Data set ~~~\n",
        "\n",
        "import numpy as np \n",
        "import pandas as pd\n",
        "from sklearn.model_selection import train_test_split\n",
        "from keras.utils.np_utils import to_categorical\n",
        "import seaborn as sns\n",
        "\n",
        "np.random.seed(2)\n",
        "\n",
        "'load the dataset'\n",
        "dataset = pd.read_csv('xclara.csv')\n",
        "\n",
        "'creating label'\n",
        "y = dataset[\"label\"]\n",
        "\n",
        "'dropping label'\n",
        "X = dataset.drop(labels = [\"label\"], axis = 1)\n",
        "\n",
        "'deleting dataset to reduce memory usage'\n",
        "del dataset\n",
        "\n",
        "'overview of dataset'\n",
        "g = sns.countplot(y)\n",
        "y.value_counts()\n",
        "\n",
        "'Grayscale normalization to reduce the effect of illumination differences.'\n",
        "X = X / 255.0\n",
        "\n",
        "'reshaping the dataset to fit standard of a 4D tensor of shape [mini-batch size, height = 28px, width = 28px, channels = 1 due to grayscale].'\n",
        "X = X.values.reshape(-1,28,28,1)\n",
        "\n",
        "'categorical conversion of label'\n",
        "y = to_categorical(y, num_classes = 14)\n",
        "\n",
        "'90% Training and 10% Validation split'\n",
        "random_seed = 2\n",
        "X_train, X_val, y_train, y_val = train_test_split(X, y, test_size = 0.1 , random_state = random_seed, stratify = y)\n"
      ]
    },
    {
      "cell_type": "code",
      "source": [
        "from google.colab import files\n",
        "from IPython.display import Image\n",
        "uploaded=files.upload()"
      ],
      "metadata": {
        "id": "KJGslEhjOaGI"
      },
      "execution_count": null,
      "outputs": []
    },
    {
      "cell_type": "code",
      "source": [
        "#~~~2. Model~~~\n",
        "\n",
        "from keras.models import Sequential\n",
        "from keras.layers import Dense, Dropout, Flatten, Conv2D, MaxPool2D\n",
        "from tensorflow.keras.optimizers import RMSprop\n",
        "from keras.preprocessing.image import ImageDataGenerator\n",
        "from keras.callbacks import ReduceLROnPlateau\n",
        "from tensorflow import keras\n",
        "\n",
        "'creating the instance of the model'\n",
        "model = Sequential()\n",
        "\n",
        "'adding layers to the model'\n",
        "#Layer: 1\n",
        "model.add(Conv2D(filters = 32, kernel_size = (5,5), padding = \"Same\", activation = \"relu\", input_shape = (28, 28, 1)))\n",
        "model.add(Conv2D(filters = 32, kernel_size = (5,5), padding = \"Same\", activation = \"relu\"))\n",
        "model.add(MaxPool2D(pool_size = (2,2)))\n",
        "model.add(Dropout(0.25))\n",
        "\n",
        "#Layer: 2\n",
        "model.add(Conv2D(filters = 64, kernel_size = (3,3), padding = \"Same\", activation = \"relu\"))\n",
        "model.add(Conv2D(filters = 64, kernel_size = (3,3), padding = \"Same\", activation = \"relu\"))\n",
        "model.add(MaxPool2D(pool_size = (2,2)))\n",
        "model.add(Dropout(0.25))\n",
        "\n",
        "\n",
        "#fully connected layer and output\n",
        "model.add(Flatten())\n",
        "model.add(Dense(256, activation = \"relu\"))\n",
        "model.add(Dropout(0.25))\n",
        "model.add(Dense(14, activation = \"softmax\"))\n",
        "\n",
        "\n",
        "\n",
        "'Set the optimizer and annealer'\n",
        "optimizer = RMSprop(lr = 0.001, rho = 0.9, epsilon = 1e-08, decay=0.0 )\n",
        "\n",
        "model.compile(optimizer = optimizer, loss = \"categorical_crossentropy\", metrics = [\"accuracy\"])\n",
        "\n",
        "learning_rate_reduction = ReduceLROnPlateau(monitor = \"val_accuracy\",\n",
        "                                            patience = 3,\n",
        "                                            verbose = 1,\n",
        "                                            factor = 0.5,\n",
        "                                            min_lr = 0.0001)\n",
        "\n",
        "\n",
        "'data augmentation'\n",
        "datagen = ImageDataGenerator(\n",
        "        featurewise_center=False,  # set input mean to 0 over the dataset\n",
        "        samplewise_center=False,  # set each sample mean to 0\n",
        "        featurewise_std_normalization=False,  # divide inputs by std of the dataset\n",
        "        samplewise_std_normalization=False,  # divide each input by its std\n",
        "        zca_whitening=False,  # apply ZCA whitening\n",
        "        rotation_range=10,  # randomly rotate images in the range (degrees, 0 to 180)\n",
        "        zoom_range = 0.1, # Randomly zoom image \n",
        "        width_shift_range=0.1,  # randomly shift images horizontally (fraction of total width)\n",
        "        height_shift_range=0.1,  # randomly shift images vertically (fraction of total height)\n",
        "        horizontal_flip=False,  # randomly flip images\n",
        "        vertical_flip=False)  # randomly flip images\n",
        "\n",
        "datagen.fit(X_train)\n",
        "\n",
        "\n",
        "'fitting the model'\n",
        "epochs = 5\n",
        "batch_size = 86\n",
        "\n",
        "\n",
        "history = model.fit_generator(\n",
        "                                datagen.flow(X_train,y_train, batch_size=batch_size),\n",
        "                                epochs = epochs, #An epoch is an iteration over the entire x and y data provided\n",
        "                                validation_data = (X_val,y_val), #Data on which to evaluate the loss and any model metrics at the end of each epoch. \n",
        "                                verbose = 1, #output\n",
        "                                steps_per_epoch=X_train.shape[0] // batch_size,  # Total number of steps (batches of samples) before declaring one epoch finished and starting the next epoch.\n",
        "                                callbacks=[learning_rate_reduction]                            \n",
        "                              )\n",
        "'saving the model in HDF5 binary data format'\n",
        "model.save(\"/content/gdrive/MyDrive/ColabNotebooks/model.h5\")"
      ],
      "metadata": {
        "colab": {
          "base_uri": "https://localhost:8080/"
        },
        "id": "95M2ROyMQ4pB",
        "outputId": "9a378f44-7b54-453d-f501-c9296afb477d"
      },
      "execution_count": null,
      "outputs": [
        {
          "output_type": "stream",
          "name": "stderr",
          "text": [
            "/usr/local/lib/python3.7/dist-packages/keras/optimizer_v2/rmsprop.py:130: UserWarning: The `lr` argument is deprecated, use `learning_rate` instead.\n",
            "  super(RMSprop, self).__init__(name, **kwargs)\n",
            "/usr/local/lib/python3.7/dist-packages/ipykernel_launcher.py:75: UserWarning: `Model.fit_generator` is deprecated and will be removed in a future version. Please use `Model.fit`, which supports generators.\n"
          ]
        },
        {
          "output_type": "stream",
          "name": "stdout",
          "text": [
            "Epoch 1/5\n",
            "896/896 [==============================] - 42s 46ms/step - loss: 0.2743 - accuracy: 0.9165 - val_loss: 0.0769 - val_accuracy: 0.9800 - lr: 0.0010\n",
            "Epoch 2/5\n",
            "896/896 [==============================] - 41s 46ms/step - loss: 0.0810 - accuracy: 0.9758 - val_loss: 0.0439 - val_accuracy: 0.9874 - lr: 0.0010\n",
            "Epoch 3/5\n",
            "896/896 [==============================] - 40s 45ms/step - loss: 0.0643 - accuracy: 0.9812 - val_loss: 0.0279 - val_accuracy: 0.9918 - lr: 0.0010\n",
            "Epoch 4/5\n",
            "896/896 [==============================] - 41s 46ms/step - loss: 0.0577 - accuracy: 0.9836 - val_loss: 0.0328 - val_accuracy: 0.9908 - lr: 0.0010\n",
            "Epoch 5/5\n",
            "896/896 [==============================] - 40s 45ms/step - loss: 0.0543 - accuracy: 0.9848 - val_loss: 0.0377 - val_accuracy: 0.9904 - lr: 0.0010\n"
          ]
        }
      ]
    },
    {
      "cell_type": "code",
      "source": [
        "import os\n",
        "import cv2\n",
        "from matplotlib import pyplot as plt\n",
        "\n",
        "path='testing (2).png'\n",
        "img = cv2.imread(path,0)\n",
        "plt.imshow(img, cmap = 'gray', interpolation = 'bicubic')\n",
        "plt.xticks([]), plt.yticks([]) # to hide tick values on X and Y axis\n",
        "plt.show()\n"
      ],
      "metadata": {
        "colab": {
          "base_uri": "https://localhost:8080/",
          "height": 65
        },
        "id": "XtHmF78tWAEh",
        "outputId": "ddb39fce-f40c-42eb-b641-6034574dabe7"
      },
      "execution_count": null,
      "outputs": [
        {
          "output_type": "display_data",
          "data": {
            "image/png": "[encoded data removed]",
            "text/plain": [
              "<Figure size 432x288 with 1 Axes>"
            ]
          },
          "metadata": {}
        }
      ]
    },
    {
      "cell_type": "code",
      "execution_count": null,
      "metadata": {
        "id": "H5mTLMRB0sBW",
        "colab": {
          "base_uri": "https://localhost:8080/"
        },
        "outputId": "0f7c4038-8b5d-4ca6-d984-d06cd72538cf"
      },
      "outputs": [
        {
          "output_type": "stream",
          "name": "stdout",
          "text": [
            "WARNING:tensorflow:6 out of the last 6 calls to <function Model.make_predict_function.<locals>.predict_function at 0x7f7223cea4d0> triggered tf.function retracing. Tracing is expensive and the excessive number of tracings could be due to (1) creating @tf.function repeatedly in a loop, (2) passing tensors with different shapes, (3) passing Python objects instead of tensors. For (1), please define your @tf.function outside of the loop. For (2), @tf.function has experimental_relax_shapes=True option that relaxes argument shapes that can avoid unnecessary retracing. For (3), please refer to https://www.tensorflow.org/guide/function#controlling_retracing and https://www.tensorflow.org/api_docs/python/tf/function for  more details.\n"
          ]
        }
      ],
      "source": [
        "#~~~3. Prediction~~~\n",
        "\n",
        "from PIL import Image\n",
        "from itertools import groupby\n",
        "import numpy as np\n",
        "from keras.utils.np_utils import to_categorical\n",
        "from tensorflow import keras\n",
        "\n",
        "'loading image in grayscale'\n",
        "image = Image.open(\"testing (2).png\").convert(\"L\")\n",
        "\n",
        "'resizing to 28 height pixels'\n",
        "w = image.size[0]\n",
        "h = image.size[1]\n",
        "r = w / h # aspect ratio\n",
        "new_w = int(r * 28)\n",
        "new_h = 28\n",
        "new_image = image.resize((new_w, new_h))\n",
        "\n",
        "'converting to a numpy array'\n",
        "new_image_arr = np.array(new_image)\n",
        "\n",
        "'inverting the image to make background = 0'\n",
        "new_inv_image_arr = 255 - new_image_arr\n",
        "\n",
        "'rescaling the image'\n",
        "final_image_arr = new_inv_image_arr / 255.0\n",
        "\n",
        "'splitting image array into individual element arrays using non zero columns'\n",
        "m = final_image_arr.any(0)\n",
        "out = [final_image_arr[:,[*g]] for k, g in groupby(np.arange(len(m)), lambda x: m[x] != 0) if k]\n",
        "\n",
        "\n",
        "'''\n",
        "iterating through the element arrays to resize them to match input \n",
        "criteria of the model = [mini_batch_size, height, width, channels]\n",
        "'''\n",
        "num_of_elements = len(out)\n",
        "elements_list = []\n",
        "for x in range(0, num_of_elements):\n",
        "    img = out[x]\n",
        "    \n",
        "    #adding 0 value columns as fillers\n",
        "    width = img.shape[1]\n",
        "    filler = (final_image_arr.shape[0] - width) / 2\n",
        "    \n",
        "    if filler.is_integer() == False:    #odd number of filler columns\n",
        "        filler_l = int(filler)\n",
        "        filler_r = int(filler) + 1\n",
        "    else:                               #even number of filler columns\n",
        "        filler_l = int(filler)\n",
        "        filler_r = int(filler)\n",
        "    \n",
        "    arr_l = np.zeros((final_image_arr.shape[0], filler_l)) #left fillers\n",
        "    arr_r = np.zeros((final_image_arr.shape[0], filler_r)) #right fillers\n",
        "    \n",
        "    #concatinating the left and right fillers\n",
        "    help_ = np.concatenate((arr_l, img), axis= 1)\n",
        "    element_arr = np.concatenate((help_, arr_r), axis= 1)\n",
        "    \n",
        "    element_arr.resize(28, 28, 1) #resize array 2d to 3d\n",
        "    #storing all elements in a list\n",
        "    elements_list.append(element_arr)\n",
        "elements_array = np.array(elements_list)\n",
        "'reshaping to fit model input criteria'\n",
        "elements_array = elements_array.reshape(-1, 28, 28, 1)\n",
        "'predicting using the created model'\n",
        "model = keras.models.load_model(\"/content/gdrive/MyDrive/ColabNotebooks/model.h5\")\n",
        "elements_pred =  model.predict(elements_array)\n",
        "elements_pred = np.argmax(elements_pred, axis = 1)"
      ]
    },
    {
      "cell_type": "code",
      "execution_count": null,
      "metadata": {
        "id": "SngCiO1D0t0G",
        "colab": {
          "base_uri": "https://localhost:8080/"
        },
        "outputId": "6e469a44-a424-4046-98f8-59cdad0d3ea5"
      },
      "outputs": [
        {
          "output_type": "stream",
          "name": "stdout",
          "text": [
            "98 / 76 * 54 + 32 - 10 = 91.63\n"
          ]
        }
      ],
      "source": [
        "#~~~4. Mathematical Operation~~~\n",
        "\n",
        "def math_expression_generator(arr):\n",
        "    \n",
        "    op = {\n",
        "              10,   # = \"/\"\n",
        "              11,   # = \"+\"\n",
        "              12,   # = \"-\"\n",
        "              13    # = \"*\"\n",
        "                  }   \n",
        "    \n",
        "    m_exp = []\n",
        "    temp = []\n",
        "        \n",
        "    'creating a list separating all elements'\n",
        "    for item in arr:\n",
        "        if item not in op:\n",
        "            temp.append(item)\n",
        "        else:\n",
        "            m_exp.append(temp)\n",
        "            m_exp.append(item)\n",
        "            temp = []\n",
        "    if temp:\n",
        "        m_exp.append(temp)\n",
        "        \n",
        "    'converting the elements to numbers and operators'\n",
        "    i = 0\n",
        "    num = 0\n",
        "    for item in m_exp:\n",
        "        if type(item) == list:\n",
        "            if not item:\n",
        "                m_exp[i] = \"\"\n",
        "                i = i + 1\n",
        "            else:\n",
        "                num_len = len(item)\n",
        "                for digit in item:\n",
        "                    num_len = num_len - 1\n",
        "                    num = num + ((10 ** num_len) * digit)\n",
        "                m_exp[i] = str(num)\n",
        "                num = 0\n",
        "                i = i + 1\n",
        "        else:\n",
        "            m_exp[i] = str(item)\n",
        "            m_exp[i] = m_exp[i].replace(\"10\",\"/\")\n",
        "            m_exp[i] = m_exp[i].replace(\"11\",\"+\")\n",
        "            m_exp[i] = m_exp[i].replace(\"12\",\"-\")\n",
        "            m_exp[i] = m_exp[i].replace(\"13\",\"*\")\n",
        "            \n",
        "            i = i + 1\n",
        "    \n",
        "    \n",
        "    'joining the list of strings to create the mathematical expression'\n",
        "    separator = ' '\n",
        "    m_exp_str = separator.join(m_exp)\n",
        "    \n",
        "    return (m_exp_str)\n",
        "\n",
        "'creating the mathematical expression'\n",
        "m_exp_str = math_expression_generator(elements_pred)\n",
        "\n",
        "'calculating the mathematical expression using eval()'\n",
        "while True:\n",
        "    try:\n",
        "        answer = eval(m_exp_str)    #evaluating the answer\n",
        "        answer = round(answer, 2)\n",
        "        equation  = m_exp_str + \" = \" + str(answer)\n",
        "        print(equation)   #printing the equation\n",
        "        break\n",
        "\n",
        "    except SyntaxError:\n",
        "        print(\"Invalid predicted expression!!\")\n",
        "        print(\"Following is the predicted expression:\")\n",
        "        print(m_exp_str)\n",
        "        break"
      ]
    }
  ],
  "metadata": {
    "colab": {
      "name": "mini project.ipynb",
      "provenance": [],
      "collapsed_sections": []
    },
    "kernelspec": {
      "display_name": "Python 3",
      "name": "python3"
    },
    "language_info": {
      "name": "python"
    },
    "accelerator": "GPU"
  },
  "nbformat": 4,
  "nbformat_minor": 0
}